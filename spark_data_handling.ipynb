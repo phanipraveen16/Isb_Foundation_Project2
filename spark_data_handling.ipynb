{
 "cells": [
  {
   "cell_type": "code",
   "execution_count": 1,
   "metadata": {},
   "outputs": [],
   "source": [
    "# importing required packages\n",
    "import sys\n",
    "from pyspark import SparkConf, SparkContext\n",
    "from math import sqrt"
   ]
  },
  {
   "cell_type": "code",
   "execution_count": 6,
   "metadata": {},
   "outputs": [],
   "source": [
    "import pandas as pd\n",
    "import numpy as np\n",
    "import sys\n",
    "import logging\n",
    "from textblob import Word\n",
    "from nltk.tokenize import word_tokenize\n",
    "from nltk.tokenize import sent_tokenize\n",
    "import nltk\n",
    "from nltk.corpus import stopwords\n",
    "from nltk.tokenize import word_tokenize, sent_tokenize\n",
    "import re\n",
    "import spacy\n",
    "nlp = spacy.load(\"en_core_web_sm\")\n",
    "from textblob import TextBlob\n",
    "import nltk\n",
    "from nltk.corpus import stopwords\n",
    "from nltk.tokenize import word_tokenize, sent_tokenize\n",
    "\n",
    "from spacy.lang.en.stop_words import STOP_WORDS\n",
    "from string import punctuation\n",
    "stopwords = list(STOP_WORDS)\n",
    "from heapq import nlargest\n",
    "import torch\n",
    "# import tensorflow as tf\n",
    "# import tensorflow_hub as hub\n",
    "import numpy as np\n",
    "import os, sys\n",
    "from sklearn.metrics.pairwise import cosine_similarity"
   ]
  },
  {
   "cell_type": "code",
   "execution_count": 2,
   "metadata": {},
   "outputs": [],
   "source": [
    "conf = SparkConf().setMaster(\"local[*]\").setAppName(\"question3\")\n",
    "sc = SparkContext(conf = conf)"
   ]
  },
  {
   "cell_type": "code",
   "execution_count": 3,
   "metadata": {},
   "outputs": [],
   "source": [
    "from pyspark.sql import SQLContext, Row \n",
    "sqlContext = SQLContext(sc)"
   ]
  },
  {
   "cell_type": "markdown",
   "metadata": {},
   "source": [
    "## news_articles_data reliance industries"
   ]
  },
  {
   "cell_type": "code",
   "execution_count": 86,
   "metadata": {},
   "outputs": [],
   "source": [
    "news_data = sqlContext.read.format('csv').options(header=\"true\").load('/Users/praveen/Downloads/isb/term5/FP2/data_files/news_data/reliance_industries_news.csv')"
   ]
  },
  {
   "cell_type": "code",
   "execution_count": 87,
   "metadata": {},
   "outputs": [
    {
     "name": "stdout",
     "output_type": "stream",
     "text": [
      "+---+--------------------+---------+-----------+-------------+--------------------+--------------------+--------------------+\n",
      "|_c0|                date|source-id|source-name|       author|               title|         description|             content|\n",
      "+---+--------------------+---------+-----------+-------------+--------------------+--------------------+--------------------+\n",
      "|  0|2021-09-03T04:58:00Z|  reuters|    Reuters|      Reuters|Indian shares hit...|Indian shares sca...|People walk past ...|\n",
      "|  1|2021-09-03T04:10:00Z|  reuters|    Reuters|Reuters Staff|Indian shares hit...|Indian shares sca...|    By Reuters Staff|\n",
      "+---+--------------------+---------+-----------+-------------+--------------------+--------------------+--------------------+\n",
      "only showing top 2 rows\n",
      "\n"
     ]
    }
   ],
   "source": [
    "news_data.show(2)"
   ]
  },
  {
   "cell_type": "markdown",
   "metadata": {},
   "source": [
    "### performing text analytics on spark data frame"
   ]
  },
  {
   "cell_type": "code",
   "execution_count": 88,
   "metadata": {},
   "outputs": [],
   "source": [
    "from pyspark.sql import functions as F\n",
    "from pyspark .sql import types as T\n",
    "from pyspark .sql import Window"
   ]
  },
  {
   "cell_type": "code",
   "execution_count": 89,
   "metadata": {},
   "outputs": [],
   "source": [
    "def convert_to_str(data):\n",
    "    return str(data)\n",
    "convert_to_str_udf = F.udf(convert_to_str,returnType=T.StringType())"
   ]
  },
  {
   "cell_type": "code",
   "execution_count": 90,
   "metadata": {},
   "outputs": [],
   "source": [
    "news_data = news_data.withColumn(\"clean_trans\",convert_to_str_udf(news_data[\"content\"]))"
   ]
  },
  {
   "cell_type": "code",
   "execution_count": 91,
   "metadata": {},
   "outputs": [
    {
     "name": "stdout",
     "output_type": "stream",
     "text": [
      "+---+--------------------+---------+-----------+-------+--------------------+--------------------+--------------------+--------------------+\n",
      "|_c0|                date|source-id|source-name| author|               title|         description|             content|         clean_trans|\n",
      "+---+--------------------+---------+-----------+-------+--------------------+--------------------+--------------------+--------------------+\n",
      "|  0|2021-09-03T04:58:00Z|  reuters|    Reuters|Reuters|Indian shares hit...|Indian shares sca...|People walk past ...|People walk past ...|\n",
      "+---+--------------------+---------+-----------+-------+--------------------+--------------------+--------------------+--------------------+\n",
      "only showing top 1 row\n",
      "\n"
     ]
    }
   ],
   "source": [
    "news_data.show(1)"
   ]
  },
  {
   "cell_type": "code",
   "execution_count": 92,
   "metadata": {},
   "outputs": [],
   "source": [
    "def data_clean1(x):\n",
    "    return re.sub('[^a-zA-Z0-9]', ' ', x)\n",
    "data_clean1_udf = F.udf(data_clean1,returnType=T.StringType())"
   ]
  },
  {
   "cell_type": "code",
   "execution_count": 93,
   "metadata": {},
   "outputs": [],
   "source": [
    "news_data = news_data.withColumn(\"clean_trans\",data_clean1_udf(news_data[\"clean_trans\"]))"
   ]
  },
  {
   "cell_type": "code",
   "execution_count": 94,
   "metadata": {},
   "outputs": [],
   "source": [
    "def data_clean2(x):\n",
    "    return re.sub(r'\\s+', ' ', x)\n",
    "data_clean2_udf = F.udf(data_clean2,returnType=T.StringType())"
   ]
  },
  {
   "cell_type": "code",
   "execution_count": 95,
   "metadata": {},
   "outputs": [],
   "source": [
    "news_data = news_data.withColumn(\"clean_trans\",data_clean2_udf(news_data[\"clean_trans\"]))"
   ]
  },
  {
   "cell_type": "code",
   "execution_count": 96,
   "metadata": {},
   "outputs": [],
   "source": [
    "def nltk_stopword(df):\n",
    "    stopwords = set(nltk.corpus.stopwords.words('english'))\n",
    "    stopwords = set([word for word in list(stopwords) if word not in ['not', 'NOT']])\n",
    "    try:\n",
    "\n",
    "        words = df.split(\" \")\n",
    "        shortlisted_words = []\n",
    "\n",
    "        for w in words:\n",
    "            if w not in stopwords:\n",
    "                shortlisted_words.append(w)\n",
    "\n",
    "    except:\n",
    "        print('An error occurred.')\n",
    "        shortlisted_words = []\n",
    "    return ' '.join(shortlisted_words)\n",
    "nltk_stopword_udf = F.udf(nltk_stopword,returnType=T.StringType())"
   ]
  },
  {
   "cell_type": "code",
   "execution_count": 97,
   "metadata": {},
   "outputs": [],
   "source": [
    "news_data = news_data.withColumn(\"clean_trans\",nltk_stopword_udf(news_data[\"clean_trans\"]))"
   ]
  },
  {
   "cell_type": "code",
   "execution_count": 98,
   "metadata": {},
   "outputs": [],
   "source": [
    "def sentiment(x):\n",
    "    return TextBlob(x).sentiment[0]\n",
    "sentiment_udf = F.udf(sentiment,returnType=T.StringType())"
   ]
  },
  {
   "cell_type": "code",
   "execution_count": 99,
   "metadata": {},
   "outputs": [],
   "source": [
    "news_data = news_data.withColumn(\"sentiment_score\",sentiment_udf(news_data[\"clean_trans\"]))"
   ]
  },
  {
   "cell_type": "code",
   "execution_count": 100,
   "metadata": {},
   "outputs": [
    {
     "name": "stdout",
     "output_type": "stream",
     "text": [
      "+---+--------------------+---------+-----------+-------+--------------------+--------------------+--------------------+--------------------+---------------+\n",
      "|_c0|                date|source-id|source-name| author|               title|         description|             content|         clean_trans|sentiment_score|\n",
      "+---+--------------------+---------+-----------+-------+--------------------+--------------------+--------------------+--------------------+---------------+\n",
      "|  0|2021-09-03T04:58:00Z|  reuters|    Reuters|Reuters|Indian shares hit...|Indian shares sca...|People walk past ...|People walk past ...|          -0.25|\n",
      "+---+--------------------+---------+-----------+-------+--------------------+--------------------+--------------------+--------------------+---------------+\n",
      "only showing top 1 row\n",
      "\n"
     ]
    }
   ],
   "source": [
    "news_data.show(1)"
   ]
  },
  {
   "cell_type": "code",
   "execution_count": 101,
   "metadata": {},
   "outputs": [],
   "source": [
    "def Date_function(x):\n",
    "    x = str(x)\n",
    "    try:\n",
    "        return x.split('T')[0]\n",
    "    except:\n",
    "        return ''\n",
    "Date_function_udf = F.udf(Date_function,returnType=T.StringType())"
   ]
  },
  {
   "cell_type": "code",
   "execution_count": 102,
   "metadata": {},
   "outputs": [],
   "source": [
    "news_data = news_data.withColumn(\"Date\",Date_function_udf(news_data[\"date\"]))"
   ]
  },
  {
   "cell_type": "code",
   "execution_count": 106,
   "metadata": {},
   "outputs": [],
   "source": [
    "news_data = news_data.withColumn(\"sentiment_score\",news_data.sentiment_score.cast(T.FloatType()))"
   ]
  },
  {
   "cell_type": "code",
   "execution_count": 107,
   "metadata": {},
   "outputs": [
    {
     "name": "stdout",
     "output_type": "stream",
     "text": [
      "+---+----------+---------+-----------+-------+--------------------+--------------------+--------------------+--------------------+---------------+\n",
      "|_c0|      Date|source-id|source-name| author|               title|         description|             content|         clean_trans|sentiment_score|\n",
      "+---+----------+---------+-----------+-------+--------------------+--------------------+--------------------+--------------------+---------------+\n",
      "|  0|2021-09-03|  reuters|    Reuters|Reuters|Indian shares hit...|Indian shares sca...|People walk past ...|People walk past ...|          -0.25|\n",
      "+---+----------+---------+-----------+-------+--------------------+--------------------+--------------------+--------------------+---------------+\n",
      "only showing top 1 row\n",
      "\n"
     ]
    }
   ],
   "source": [
    "news_data.show(1)"
   ]
  },
  {
   "cell_type": "code",
   "execution_count": 114,
   "metadata": {},
   "outputs": [],
   "source": [
    "\n",
    "sentiment_data = news_data.groupBy(\"Date\").agg(F.mean(\"sentiment_score\").alias(\"sentiment_score\")) "
   ]
  },
  {
   "cell_type": "code",
   "execution_count": 115,
   "metadata": {},
   "outputs": [
    {
     "name": "stdout",
     "output_type": "stream",
     "text": [
      "+----------+--------------------+\n",
      "|      Date|     sentiment_score|\n",
      "+----------+--------------------+\n",
      "|2021-08-30|-0.13750000298023224|\n",
      "|2021-09-06| 0.02014266022227027|\n",
      "+----------+--------------------+\n",
      "only showing top 2 rows\n",
      "\n"
     ]
    }
   ],
   "source": [
    "sentiment_data.show(2)"
   ]
  },
  {
   "cell_type": "markdown",
   "metadata": {},
   "source": [
    "## merging news data sentiment with nifty data "
   ]
  },
  {
   "cell_type": "code",
   "execution_count": 46,
   "metadata": {},
   "outputs": [],
   "source": [
    "nifty_data = sqlContext.read.format('csv').options(header=\"true\").load('/Users/praveen/Downloads/isb/term5/FP2/data_files/fianance_data/share_data/nifty50_share_closing_price.csv')"
   ]
  },
  {
   "cell_type": "code",
   "execution_count": 47,
   "metadata": {},
   "outputs": [],
   "source": [
    "nifty_data = nifty_data.withColumn(\"nifty50_close\",nifty_data['Close'])\n",
    "nifty_data = nifty_data.drop('Close')"
   ]
  },
  {
   "cell_type": "code",
   "execution_count": 48,
   "metadata": {},
   "outputs": [
    {
     "name": "stdout",
     "output_type": "stream",
     "text": [
      "+----------+----------------+\n",
      "|      Date|   nifty50_close|\n",
      "+----------+----------------+\n",
      "|2021-07-28| 15709.400390625|\n",
      "|2021-07-29|15778.4501953125|\n",
      "+----------+----------------+\n",
      "only showing top 2 rows\n",
      "\n"
     ]
    }
   ],
   "source": [
    "nifty_data.show(2)"
   ]
  },
  {
   "cell_type": "code",
   "execution_count": 120,
   "metadata": {},
   "outputs": [],
   "source": [
    "share_data = sqlContext.read.format('csv').options(header=\"true\").load('/Users/praveen/Downloads/isb/term5/FP2/data_files/fianance_data/share_data/infosys_share_closing_price.csv')"
   ]
  },
  {
   "cell_type": "code",
   "execution_count": 121,
   "metadata": {},
   "outputs": [],
   "source": [
    "share_data = share_data.withColumn(\"share_close\",share_data['Close'])\n",
    "share_data = share_data.drop('Close')"
   ]
  },
  {
   "cell_type": "code",
   "execution_count": 122,
   "metadata": {},
   "outputs": [
    {
     "name": "stdout",
     "output_type": "stream",
     "text": [
      "+----------+-------+------------------+\n",
      "|      Date| Volume|       share_close|\n",
      "+----------+-------+------------------+\n",
      "|2021-07-28|4686788|1605.5999755859375|\n",
      "|2021-07-29|4660873|            1617.0|\n",
      "+----------+-------+------------------+\n",
      "only showing top 2 rows\n",
      "\n"
     ]
    }
   ],
   "source": [
    "share_data.show(2)"
   ]
  },
  {
   "cell_type": "code",
   "execution_count": 123,
   "metadata": {},
   "outputs": [],
   "source": [
    "share_data = nifty_data.join(share_data,nifty_data.Date ==  share_data.Date,\"inner\").drop(share_data.Date)"
   ]
  },
  {
   "cell_type": "code",
   "execution_count": 124,
   "metadata": {},
   "outputs": [
    {
     "name": "stdout",
     "output_type": "stream",
     "text": [
      "+----------+----------------+-------+------------------+\n",
      "|      Date|   nifty50_close| Volume|       share_close|\n",
      "+----------+----------------+-------+------------------+\n",
      "|2021-07-28| 15709.400390625|4686788|1605.5999755859375|\n",
      "|2021-07-29|15778.4501953125|4660873|            1617.0|\n",
      "+----------+----------------+-------+------------------+\n",
      "only showing top 2 rows\n",
      "\n"
     ]
    }
   ],
   "source": [
    "share_data.show(2) "
   ]
  },
  {
   "cell_type": "code",
   "execution_count": 125,
   "metadata": {},
   "outputs": [
    {
     "name": "stdout",
     "output_type": "stream",
     "text": [
      "+---+----------+---------+-----------+-------+--------------------+--------------------+--------------------+--------------------+---------------+\n",
      "|_c0|      Date|source-id|source-name| author|               title|         description|             content|         clean_trans|sentiment_score|\n",
      "+---+----------+---------+-----------+-------+--------------------+--------------------+--------------------+--------------------+---------------+\n",
      "|  0|2021-09-03|  reuters|    Reuters|Reuters|Indian shares hit...|Indian shares sca...|People walk past ...|People walk past ...|          -0.25|\n",
      "+---+----------+---------+-----------+-------+--------------------+--------------------+--------------------+--------------------+---------------+\n",
      "only showing top 1 row\n",
      "\n"
     ]
    }
   ],
   "source": [
    "news_data.show(1)"
   ]
  },
  {
   "cell_type": "code",
   "execution_count": 126,
   "metadata": {},
   "outputs": [],
   "source": [
    "share_data = share_data.join(sentiment_data,sentiment_data.Date ==  share_data.Date,\"left\").drop(sentiment_data.Date)"
   ]
  },
  {
   "cell_type": "code",
   "execution_count": 127,
   "metadata": {},
   "outputs": [
    {
     "name": "stdout",
     "output_type": "stream",
     "text": [
      "+----------+---------------+-------+------------------+---------------+\n",
      "|      Date|  nifty50_close| Volume|       share_close|sentiment_score|\n",
      "+----------+---------------+-------+------------------+---------------+\n",
      "|2021-07-28|15709.400390625|4686788|1605.5999755859375|           null|\n",
      "+----------+---------------+-------+------------------+---------------+\n",
      "only showing top 1 row\n",
      "\n"
     ]
    }
   ],
   "source": [
    "share_data.show(1)"
   ]
  },
  {
   "cell_type": "code",
   "execution_count": 128,
   "metadata": {},
   "outputs": [],
   "source": [
    "share_data = share_data.na.fill(value=0,subset=[\"sentiment_score\"])"
   ]
  },
  {
   "cell_type": "code",
   "execution_count": 131,
   "metadata": {},
   "outputs": [
    {
     "name": "stdout",
     "output_type": "stream",
     "text": [
      "+----------+----------------+-------+------------------+--------------------+\n",
      "|      Date|   nifty50_close| Volume|       share_close|     sentiment_score|\n",
      "+----------+----------------+-------+------------------+--------------------+\n",
      "|2021-07-28| 15709.400390625|4686788|1605.5999755859375|                 0.0|\n",
      "|2021-07-29|15778.4501953125|4660873|            1617.0|                 0.0|\n",
      "|2021-07-30|15763.0498046875|6234257|            1610.5|                 0.0|\n",
      "|2021-08-02| 15885.150390625|5553389| 1631.550048828125|                 0.0|\n",
      "|2021-08-03|        16130.75|5513668| 1655.199951171875|                 0.0|\n",
      "|2021-08-04|16258.7998046875|6740391|           1649.25|                 0.0|\n",
      "|2021-08-05| 16294.599609375|5420536| 1653.550048828125|                 0.0|\n",
      "|2021-08-06|16238.2001953125|3754855| 1650.199951171875|                 0.0|\n",
      "|2021-08-09|        16258.25|5018477| 1663.300048828125|                 0.0|\n",
      "|2021-08-10| 16280.099609375|6846517|           1677.25|                 0.0|\n",
      "|2021-08-11|        16282.25|4899639| 1677.550048828125|                 0.0|\n",
      "|2021-08-12| 16364.400390625|5659579|1689.5999755859375|                 0.0|\n",
      "|2021-08-13| 16529.099609375|5612790| 1712.199951171875|                 0.0|\n",
      "|2021-08-16|  16563.05078125|4564109|1704.4000244140625| 0.07336553037166596|\n",
      "|2021-08-17| 16614.599609375|9510390|1741.6500244140625| 0.07999999821186066|\n",
      "|2021-08-18| 16568.849609375|6686090| 1733.449951171875|  0.0957702025771141|\n",
      "|2021-08-20|         16450.5|6206972| 1732.949951171875| 0.13039772678166628|\n",
      "|2021-08-23|  16496.44921875|6189051|           1738.75| 0.05454545468091965|\n",
      "|2021-08-24| 16624.599609375|7602939|1720.8499755859375| 0.06186868498722712|\n",
      "|2021-08-25| 16634.650390625|6153253| 1735.550048828125|-0.06296103766986302|\n",
      "+----------+----------------+-------+------------------+--------------------+\n",
      "only showing top 20 rows\n",
      "\n"
     ]
    }
   ],
   "source": [
    "share_data.show(20)"
   ]
  },
  {
   "cell_type": "code",
   "execution_count": 132,
   "metadata": {},
   "outputs": [],
   "source": [
    "sqlContext.registerDataFrameAsTable(share_data,'share_data')"
   ]
  },
  {
   "cell_type": "code",
   "execution_count": null,
   "metadata": {},
   "outputs": [],
   "source": []
  }
 ],
 "metadata": {
  "kernelspec": {
   "display_name": "Python 3",
   "language": "python",
   "name": "python3"
  },
  "language_info": {
   "codemirror_mode": {
    "name": "ipython",
    "version": 3
   },
   "file_extension": ".py",
   "mimetype": "text/x-python",
   "name": "python",
   "nbconvert_exporter": "python",
   "pygments_lexer": "ipython3",
   "version": "3.8.5"
  }
 },
 "nbformat": 4,
 "nbformat_minor": 4
}
