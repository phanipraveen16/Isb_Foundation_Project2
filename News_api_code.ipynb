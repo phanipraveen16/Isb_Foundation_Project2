{
 "cells": [
  {
   "cell_type": "code",
   "execution_count": 7,
   "metadata": {},
   "outputs": [],
   "source": [
    "# importing required packages\n",
    "import requests\n",
    "import pandas as pd\n",
    "from datetime import date, timedelta\n",
    "import json"
   ]
  },
  {
   "cell_type": "code",
   "execution_count": 23,
   "metadata": {},
   "outputs": [],
   "source": [
    "class NewsApi():\n",
    "    'Class for getting the data'\n",
    "    def __init__(self,keywords):\n",
    "        'Constructor of the class'\n",
    "        # api-endpoint\n",
    "        self.url = \"https://newsapi.org/v2/everything\"\n",
    "        # creating date parameters of api using datetime package of python\n",
    "        self.to_date = date.today()\n",
    "        self.from_date = date.today() - timedelta(30)\n",
    "        \n",
    "        # giving other parameters of api\n",
    "        self.api_key = ''\n",
    "        self.language = 'en'\n",
    "        self.page_count = 100\n",
    "#         self.source = 'bbc-news'\n",
    "#         self.keywords = 'beirut','Lebanon'\n",
    "#         self.keywords = 'laurus labs share'\n",
    "        self.keywords = keywords\n",
    "        \n",
    "        # defining headers and parameters for calling api\n",
    "        self.headers={'Content-Type':'application/json'}\n",
    "#         self.PARAMS = {'apiKey':self.api_key,'from':self.from_date,'to':self.to_date,\n",
    "#                   'sources':self.source,'language':self.language,'pageSize':100,'q':self.keywords}\n",
    "        self.PARAMS = {'apiKey':self.api_key,'from':self.from_date,'to':self.to_date,\n",
    "                  'language':self.language,'pageSize':100,'q':self.keywords}\n",
    "    def api_call(self):\n",
    "        'function to call api and get response'\n",
    "        # hitting the api to get response \n",
    "        self.response = requests.request(\"GET\", self.url, headers=self.headers,params = self.PARAMS)\n",
    "        # loading the api response as json\n",
    "        self.result_json = json.loads(self.response.text)\n",
    "\n",
    "    \n",
    "    def dataframe_function(self):\n",
    "        'function to create dataframe from the api response'\n",
    "        # calling api_call to get data from api call\n",
    "        self.api_call()\n",
    "        # defining lists to save data\n",
    "        source_id_list = []\n",
    "        source_name_list = []\n",
    "        author_list = []\n",
    "        title_list = [] \n",
    "        description_list = []\n",
    "        content_list = []\n",
    "        date_list = []\n",
    "        # iterating around result_json to save info from articles\n",
    "        for i in (self.result_json['articles']):\n",
    "            source_id_list.append(i['source']['id'])\n",
    "            source_name_list.append(i['source']['name'])\n",
    "            author_list.append(i['author'])\n",
    "            title_list.append(i['title'])\n",
    "            description_list.append(i['description'])\n",
    "            content_list.append(i['content'])\n",
    "            date_list.append(i['publishedAt'])\n",
    "        # creating dataframe out of articles data\n",
    "        df = pd.DataFrame(list(zip(date_list,source_id_list, source_name_list, author_list, title_list, description_list,\n",
    "        content_list)), columns =['date','source-id', 'source-name', 'author', 'title', 'description', 'content'])    \n",
    "        return df\n",
    "        \n"
   ]
  },
  {
   "cell_type": "code",
   "execution_count": null,
   "metadata": {},
   "outputs": [],
   "source": [
    "# creating the object to call dataframe function to get data\n",
    "keywords_list = ['reliance industries','reliance industries share','reliance industries stock',\n",
    "                 'reliance communications','reliance communications share','reliance communications stock',\n",
    "                 'infosys','infosys share','infosys stock',\n",
    "                 'tata motors','tata motors share','tata motors stock',\n",
    "                 'nestle','nestle share','nestle stock',\n",
    "                 'hdfc','hdfc share','hdfc stock',\n",
    "                ]\n",
    "directory = '/Users/praveen/Downloads/isb/term2/news_api_data/'\n",
    "for keywords in keywords_list:\n",
    "    news_api_obj = NewsApi(keywords)\n",
    "    articles_data = news_api_obj.dataframe_function()\n",
    "    path = directory+'_'.join(keywords.split())+'_news.csv'\n",
    "    articles_data.to_csv(path)"
   ]
  },
  {
   "cell_type": "code",
   "execution_count": null,
   "metadata": {},
   "outputs": [],
   "source": []
  }
 ],
 "metadata": {
  "kernelspec": {
   "display_name": "Python 3",
   "language": "python",
   "name": "python3"
  },
  "language_info": {
   "codemirror_mode": {
    "name": "ipython",
    "version": 3
   },
   "file_extension": ".py",
   "mimetype": "text/x-python",
   "name": "python",
   "nbconvert_exporter": "python",
   "pygments_lexer": "ipython3",
   "version": "3.8.5"
  }
 },
 "nbformat": 4,
 "nbformat_minor": 4
}
